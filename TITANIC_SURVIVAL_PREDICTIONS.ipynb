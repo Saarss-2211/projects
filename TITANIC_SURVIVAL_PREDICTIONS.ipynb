{
  "nbformat": 4,
  "nbformat_minor": 0,
  "metadata": {
    "colab": {
      "provenance": [],
      "authorship_tag": "ABX9TyMkODEzwkMiVpJlISU0lkCq",
      "include_colab_link": true
    },
    "kernelspec": {
      "name": "python3",
      "display_name": "Python 3"
    },
    "language_info": {
      "name": "python"
    }
  },
  "cells": [
    {
      "cell_type": "markdown",
      "metadata": {
        "id": "view-in-github",
        "colab_type": "text"
      },
      "source": [
        "<a href=\"https://colab.research.google.com/github/Saarss-2211/projects/blob/main/TITANIC_SURVIVAL_PREDICTIONS.ipynb\" target=\"_parent\"><img src=\"https://colab.research.google.com/assets/colab-badge.svg\" alt=\"Open In Colab\"/></a>"
      ]
    },
    {
      "cell_type": "code",
      "execution_count": null,
      "metadata": {
        "id": "MRgceKy4G2jW"
      },
      "outputs": [],
      "source": [
        "import numpy as np\n",
        "import pandas as pd\n",
        "import seaborn as sns\n",
        "import matplotlib.pyplot as plt\n",
        "from sklearn.model_selection import train_test_split\n",
        "from sklearn.linear_model import LogisticRegression\n",
        "from sklearn.preprocessing import LabelEncoder\n",
        "from sklearn.metrics import accuracy_score, confusion_matrix, classification_report"
      ]
    },
    {
      "cell_type": "code",
      "source": [
        "df = pd.read_csv('/content/test_data Titanic.csv')\n",
        "print(df.head())"
      ],
      "metadata": {
        "colab": {
          "base_uri": "https://localhost:8080/"
        },
        "id": "K5q4Jmmp8viy",
        "outputId": "cf8fe7d4-25b1-4755-ed8e-8e134154e1ef"
      },
      "execution_count": null,
      "outputs": [
        {
          "output_type": "stream",
          "name": "stdout",
          "text": [
            "   Unnamed: 0  PassengerId  Survived  Sex     Age      Fare  Pclass_1  \\\n",
            "0         791          792         0    1  0.2000  0.050749         0   \n",
            "1         792          793         0    0  0.3500  0.135753         0   \n",
            "2         793          794         0    1  0.3500  0.059914         1   \n",
            "3         794          795         0    1  0.3125  0.015412         0   \n",
            "4         795          796         0    1  0.4875  0.025374         0   \n",
            "\n",
            "   Pclass_2  Pclass_3  Family_size  Title_1  Title_2  Title_3  Title_4  Emb_1  \\\n",
            "0         1         0          0.0        1        0        0        0      0   \n",
            "1         0         1          1.0        0        0        0        1      0   \n",
            "2         0         0          0.0        1        0        0        0      1   \n",
            "3         0         1          0.0        1        0        0        0      0   \n",
            "4         1         0          0.0        1        0        0        0      0   \n",
            "\n",
            "   Emb_2  Emb_3  \n",
            "0      0      1  \n",
            "1      0      1  \n",
            "2      0      0  \n",
            "3      0      1  \n",
            "4      0      1  \n"
          ]
        }
      ]
    },
    {
      "cell_type": "code",
      "source": [
        "X = df.drop('Survived',axis=1)\n",
        "y = df['Survived']"
      ],
      "metadata": {
        "id": "2mDDaPdYD9yZ"
      },
      "execution_count": null,
      "outputs": []
    },
    {
      "cell_type": "code",
      "source": [
        "X_train, X_test, y_train, y_test = train_test_split(X,y, test_size=0.2, random_state=42)"
      ],
      "metadata": {
        "id": "GIqDQXkfEgxA"
      },
      "execution_count": null,
      "outputs": []
    },
    {
      "cell_type": "code",
      "source": [
        "# Logistic Regression\n",
        "lr = LogisticRegression(max_iter=1000)\n",
        "lr.fit(X_train, y_train)\n",
        "y_pred_lr = lr.predict(X_test)"
      ],
      "metadata": {
        "id": "_aKkq-o-Krlg"
      },
      "execution_count": null,
      "outputs": []
    },
    {
      "cell_type": "code",
      "source": [
        "# Random Forest Classifier\n",
        "rf = RandomForestClassifier(n_estimators=100, random_state=42)\n",
        "rf.fit(X_train, y_train)\n",
        "y_pred_rf = rf.predict(X_test)"
      ],
      "metadata": {
        "id": "SkfQcx0wLWBW"
      },
      "execution_count": null,
      "outputs": []
    },
    {
      "cell_type": "code",
      "source": [
        "# Evaluate Logistic Regression\n",
        "print(\"Logistic Regression \")\n",
        "print(\"Accuracy:\", accuracy_score(y_test, y_pred_lr))\n",
        "print(\"Confusion Matrix:\\n\", confusion_matrix(y_test, y_pred_lr))\n",
        "print(\"Classification Report:\\n\", classification_report(y_test, y_pred_lr))\n",
        "\n",
        "# Evaluate Random Forest\n",
        "print(\"\\n Random Forest Classifier \")\n",
        "print(\"Accuracy:\", accuracy_score(y_test, y_pred_rf))\n",
        "print(\"Confusion Matrix:\\n\", confusion_matrix(y_test, y_pred_rf))\n",
        "print(\"Classification Report:\\n\", classification_report(y_test, y_pred_rf))"
      ],
      "metadata": {
        "colab": {
          "base_uri": "https://localhost:8080/"
        },
        "id": "47-AwjXbLcfT",
        "outputId": "c1a26839-4b1c-406d-c9e7-a5a78840a8da"
      },
      "execution_count": null,
      "outputs": [
        {
          "output_type": "stream",
          "name": "stdout",
          "text": [
            "Logistic Regression \n",
            "Accuracy: 0.85\n",
            "Confusion Matrix:\n",
            " [[12  0]\n",
            " [ 3  5]]\n",
            "Classification Report:\n",
            "               precision    recall  f1-score   support\n",
            "\n",
            "           0       0.80      1.00      0.89        12\n",
            "           1       1.00      0.62      0.77         8\n",
            "\n",
            "    accuracy                           0.85        20\n",
            "   macro avg       0.90      0.81      0.83        20\n",
            "weighted avg       0.88      0.85      0.84        20\n",
            "\n",
            "\n",
            " Random Forest Classifier \n",
            "Accuracy: 0.85\n",
            "Confusion Matrix:\n",
            " [[11  1]\n",
            " [ 2  6]]\n",
            "Classification Report:\n",
            "               precision    recall  f1-score   support\n",
            "\n",
            "           0       0.85      0.92      0.88        12\n",
            "           1       0.86      0.75      0.80         8\n",
            "\n",
            "    accuracy                           0.85        20\n",
            "   macro avg       0.85      0.83      0.84        20\n",
            "weighted avg       0.85      0.85      0.85        20\n",
            "\n"
          ]
        }
      ]
    }
  ]
}